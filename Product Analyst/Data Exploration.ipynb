{
 "cells": [
  {
   "cell_type": "code",
   "execution_count": null,
   "id": "423a06d6",
   "metadata": {},
   "outputs": [],
   "source": [
    "from ig_scraper import IGScraper\n",
    "from crawlbase import CrawlingAPI\n",
    "import instaloader\n",
    "from instascrape import Hashtag, Profile"
   ]
  },
  {
   "cell_type": "markdown",
   "id": "10729342",
   "metadata": {},
   "source": [
    "IG Scraper"
   ]
  },
  {
   "cell_type": "code",
   "execution_count": null,
   "id": "b7ca98c9",
   "metadata": {},
   "outputs": [],
   "source": [
    "scraper = IGScraper()\n",
    "\n",
    "# Will return maximum 10 data\n",
    "scraper.scrape_hashtag('indonesia')\n",
    "\n",
    "# Will return maximum 2 data\n",
    "scraper.scrape_hashtag('indonesia', maximum=2)"
   ]
  },
  {
   "cell_type": "code",
   "execution_count": null,
   "id": "70b344dc",
   "metadata": {},
   "outputs": [],
   "source": []
  },
  {
   "cell_type": "markdown",
   "id": "03aae3c6",
   "metadata": {},
   "source": [
    "Crawlbase"
   ]
  },
  {
   "cell_type": "code",
   "execution_count": null,
   "id": "0124ab50",
   "metadata": {},
   "outputs": [],
   "source": [
    "# Set your Crawlbase token\n",
    "crawlbase_token = ''\n",
    "\n",
    "# URL of the Instagram hashtag page to scrape\n",
    "instagram_hashtag_url = 'https://www.instagram.com/explore/tags/love/'\n",
    "\n",
    "# Options for Crawling API\n",
    "options = {\n",
    "'scraper': 'instagram-hashtag',\n",
    "}\n",
    "\n",
    "# Create a Crawlbase API instance with your token\n",
    "api = CrawlingAPI({ 'token': crawlbase_token })\n",
    "\n",
    "try: # Send a GET request to crawl the URL with options\n",
    "    response = api.get(instagram_hashtag_url, options=options)\n",
    "\n",
    "    # Check if the response status code is 200 (OK)\n",
    "    if response.get('statusCode', 0) == 200:\n",
    "        # Parse the JSON response and print it\n",
    "        response_body_json = response.get('body', {})\n",
    "        print(response_body_json)\n",
    "    else:\n",
    "        print(f\"Request failed with status code: {response.get('statusCode', 0)}\")\n",
    "\n",
    "except Exception as e: # Handle any exceptions or errors\n",
    "    print(f\"API request error: {str(e)}\")"
   ]
  },
  {
   "cell_type": "code",
   "execution_count": null,
   "id": "5956df69",
   "metadata": {},
   "outputs": [],
   "source": []
  },
  {
   "cell_type": "markdown",
   "id": "55f197fa",
   "metadata": {},
   "source": [
    "Insta loader"
   ]
  },
  {
   "cell_type": "code",
   "execution_count": null,
   "id": "de16d987",
   "metadata": {},
   "outputs": [],
   "source": [
    "L = instaloader.Instaloader(download_pictures=True, download_videos=False, download_comments=False, save_metadata=True)\n",
    "\n",
    "# Login to access more data\n",
    "L.login('', '')\n",
    "\n",
    "search_term = '#foodie'\n",
    "\n",
    "limit = 10"
   ]
  },
  {
   "cell_type": "code",
   "execution_count": null,
   "id": "cf9c7b23",
   "metadata": {},
   "outputs": [],
   "source": []
  },
  {
   "cell_type": "code",
   "execution_count": null,
   "id": "c9d03bd4",
   "metadata": {},
   "outputs": [],
   "source": [
    "hashtags = instaloader.Hashtag.from_name(L.context, search_term).get_posts()"
   ]
  },
  {
   "cell_type": "code",
   "execution_count": null,
   "id": "1dfb0649",
   "metadata": {},
   "outputs": [],
   "source": []
  },
  {
   "cell_type": "markdown",
   "id": "71c886d3",
   "metadata": {},
   "source": [
    "Instascrape"
   ]
  },
  {
   "cell_type": "code",
   "execution_count": null,
   "id": "83e99dcd",
   "metadata": {},
   "outputs": [],
   "source": [
    "google = Profile('https://www.instagram.com/google/')\n"
   ]
  },
  {
   "cell_type": "code",
   "execution_count": null,
   "id": "68c1a53e",
   "metadata": {},
   "outputs": [],
   "source": [
    "google.scrape()"
   ]
  },
  {
   "cell_type": "code",
   "execution_count": null,
   "id": "39500c6a",
   "metadata": {},
   "outputs": [],
   "source": [
    "google.followers"
   ]
  },
  {
   "cell_type": "code",
   "execution_count": null,
   "id": "c3288146",
   "metadata": {},
   "outputs": [],
   "source": []
  },
  {
   "cell_type": "code",
   "execution_count": null,
   "id": "3d0b860a",
   "metadata": {},
   "outputs": [],
   "source": [
    "google_hashtag = Hashtag('https://www.instagram.com/explore/tags/google/')"
   ]
  },
  {
   "cell_type": "code",
   "execution_count": null,
   "id": "f652936d",
   "metadata": {},
   "outputs": [],
   "source": [
    "google_hashtag.scrape()"
   ]
  },
  {
   "cell_type": "code",
   "execution_count": null,
   "id": "0443451f",
   "metadata": {},
   "outputs": [],
   "source": [
    "print(google_hashtag.amount_of_posts)"
   ]
  }
 ],
 "metadata": {
  "kernelspec": {
   "display_name": "BofE",
   "language": "python",
   "name": "python3"
  },
  "language_info": {
   "codemirror_mode": {
    "name": "ipython",
    "version": 3
   },
   "file_extension": ".py",
   "mimetype": "text/x-python",
   "name": "python",
   "nbconvert_exporter": "python",
   "pygments_lexer": "ipython3",
   "version": "3.11.9"
  }
 },
 "nbformat": 4,
 "nbformat_minor": 5
}
