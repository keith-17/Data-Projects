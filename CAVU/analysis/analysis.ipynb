{
 "cells": [
  {
   "cell_type": "code",
   "execution_count": null,
   "id": "1c0951c5",
   "metadata": {},
   "outputs": [],
   "source": [
    "import pandas as pd \n",
    "import general_utils\n",
    "import holidays\n",
    "import matplotlib.pyplot as plt\n",
    "import os\n",
    "from sklearn.linear_model import LinearRegression\n",
    "from sklearn.metrics import r2_score, mean_squared_error, mean_absolute_error\n",
    "import numpy as np\n",
    "from statsmodels.tsa.arima.model import ARIMA\n",
    "from sklearn.metrics import r2_score, mean_squared_error, mean_absolute_error\n",
    "from sklearn.ensemble import RandomForestRegressor\n",
    "from xgboost import XGBRegressor\n",
    "from sklearn.neural_network import MLPRegressor\n",
    "from sklearn.preprocessing import MinMaxScaler\n",
    "from sklearn.metrics import r2_score, mean_squared_error, mean_absolute_error\n",
    "import numpy as np\n",
    "\n",
    "\n",
    "%load_ext autoreload\n",
    "%autoreload 2"
   ]
  },
  {
   "cell_type": "code",
   "execution_count": null,
   "id": "7446c985",
   "metadata": {},
   "outputs": [],
   "source": []
  },
  {
   "cell_type": "code",
   "execution_count": null,
   "id": "1f02ab07",
   "metadata": {},
   "outputs": [],
   "source": [
    "directory = 'C:/Users/maran/OneDrive/Documents/Git Profile/Data-Projects/CAVU/raw_data'\n",
    "bookings_sample_file = 'bookings_sample (1).csv'\n",
    "flights_sample_file = 'flights_sample.csv'\n",
    "bookings_sample_path = directory + '/' + bookings_sample_file\n",
    "flights_sample_path = directory + '/' + flights_sample_file\n",
    "final_bookings_file = 'final_bookings_df.csv'\n",
    "csv_directory = 'temp_csv'\n",
    "os.makedirs(csv_directory, exist_ok=True)\n",
    "path_to_final_bookings = csv_directory + final_bookings_file\n",
    "\n",
    "car_park_columns = ['carpark1', 'carpark2', 'carpark3', 'carpark4', 'carpark5', 'carpark6', 'carpark7']"
   ]
  },
  {
   "cell_type": "code",
   "execution_count": null,
   "id": "d1f11a6b",
   "metadata": {},
   "outputs": [],
   "source": []
  },
  {
   "cell_type": "markdown",
   "id": "bd514b5a",
   "metadata": {},
   "source": [
    "# Load and clean data"
   ]
  },
  {
   "cell_type": "code",
   "execution_count": null,
   "id": "7247ba96",
   "metadata": {},
   "outputs": [],
   "source": [
    "raw_bookings_df = pd.read_csv(bookings_sample_path)\n",
    "raw_flights_df = pd.read_csv(flights_sample_path)"
   ]
  },
  {
   "cell_type": "code",
   "execution_count": null,
   "id": "bc6a29d9",
   "metadata": {},
   "outputs": [],
   "source": []
  },
  {
   "cell_type": "markdown",
   "id": "5363733e",
   "metadata": {},
   "source": [
    "## Flights data Prep"
   ]
  },
  {
   "cell_type": "code",
   "execution_count": null,
   "id": "8cab1b45",
   "metadata": {},
   "outputs": [],
   "source": [
    "flights_df = raw_flights_df.copy(deep=True)\n",
    "flights_df.head()"
   ]
  },
  {
   "cell_type": "code",
   "execution_count": null,
   "id": "d7140614",
   "metadata": {},
   "outputs": [],
   "source": []
  },
  {
   "cell_type": "code",
   "execution_count": null,
   "id": "845c8a5f",
   "metadata": {},
   "outputs": [],
   "source": [
    "flights_df.isna().sum()"
   ]
  },
  {
   "cell_type": "code",
   "execution_count": null,
   "id": "41979936",
   "metadata": {},
   "outputs": [],
   "source": []
  },
  {
   "cell_type": "code",
   "execution_count": null,
   "id": "0a3414e5",
   "metadata": {},
   "outputs": [],
   "source": [
    "flights_df['destination_airport_name_continent'].unique()"
   ]
  },
  {
   "cell_type": "code",
   "execution_count": null,
   "id": "33023a7e",
   "metadata": {},
   "outputs": [],
   "source": []
  },
  {
   "cell_type": "code",
   "execution_count": null,
   "id": "69367aad",
   "metadata": {},
   "outputs": [],
   "source": [
    "flights_df[flights_df['destination_airport_name_continent'] == 'Unknown Continent']\n",
    "\n",
    "flights_df['flight_number_full_icao'] = flights_df['flight_number_full_icao'].str.upper()\n",
    "flights_df['is_international'] = flights_df['destination_airport_dom_intern'] == 'International'\n",
    "flights_df['is_europe'] = flights_df['destination_airport_name_continent'] == 'Europe'\n",
    "flights_df['is_asia'] = flights_df['destination_airport_name_continent'] == 'Asia'\n",
    "\n",
    "manohar_rows = flights_df['destination_airport_name'].str.contains('Manohar', na=False)\n",
    "flights_df.loc[manohar_rows, 'is_asia'] = True\n",
    "\n",
    "flights_df['is_north_america'] = flights_df['destination_airport_name_continent'] == 'North America'\n",
    "flights_df['is_africa'] = flights_df['destination_airport_name_continent'] == 'Africa'\n",
    "\n",
    "flights_df.shape"
   ]
  },
  {
   "cell_type": "code",
   "execution_count": null,
   "id": "5a93907e",
   "metadata": {},
   "outputs": [],
   "source": []
  },
  {
   "cell_type": "code",
   "execution_count": null,
   "id": "2da16da7",
   "metadata": {},
   "outputs": [],
   "source": [
    "flight_min_date = flights_df['flight_date'].min()\n",
    "flight_max_date = flights_df['flight_date'].max()\n",
    "\n",
    "print(f\"Flight Date Range: {flight_min_date} to {flight_max_date}\")"
   ]
  },
  {
   "cell_type": "code",
   "execution_count": null,
   "id": "c6424f41",
   "metadata": {},
   "outputs": [],
   "source": []
  },
  {
   "cell_type": "markdown",
   "id": "95348dc8",
   "metadata": {},
   "source": [
    "## Bookings data prep"
   ]
  },
  {
   "cell_type": "code",
   "execution_count": null,
   "id": "1e4c9a69",
   "metadata": {},
   "outputs": [],
   "source": [
    "raw_booking_records = raw_bookings_df.shape[0]\n",
    "raw_booking_records"
   ]
  },
  {
   "cell_type": "code",
   "execution_count": null,
   "id": "e1f3fcb3",
   "metadata": {},
   "outputs": [],
   "source": []
  },
  {
   "cell_type": "code",
   "execution_count": null,
   "id": "689fb935",
   "metadata": {},
   "outputs": [],
   "source": [
    "raw_bookings_df.isna().sum()"
   ]
  },
  {
   "cell_type": "code",
   "execution_count": null,
   "id": "f9e6d4c7",
   "metadata": {},
   "outputs": [],
   "source": []
  },
  {
   "cell_type": "code",
   "execution_count": null,
   "id": "45d1e8f7",
   "metadata": {},
   "outputs": [],
   "source": [
    "raw_bookings_df['started_at'].min(), raw_bookings_df['started_at'].max(), raw_bookings_df['created_at'].min(), raw_bookings_df['created_at'].max(), raw_bookings_df['closed_at'].min(), raw_bookings_df['closed_at'].max()"
   ]
  },
  {
   "cell_type": "code",
   "execution_count": null,
   "id": "4b668ac1",
   "metadata": {},
   "outputs": [],
   "source": []
  },
  {
   "cell_type": "code",
   "execution_count": null,
   "id": "3631114d",
   "metadata": {},
   "outputs": [],
   "source": [
    "raw_bookings_df[raw_bookings_df['created_at'] == '2018-09-09 15:50:21.487'].shape\n",
    "raw_bookings_df[raw_bookings_df.duplicated(subset=['created_at', 'amount'])].head(2)"
   ]
  },
  {
   "cell_type": "code",
   "execution_count": null,
   "id": "7b12e9e0",
   "metadata": {},
   "outputs": [],
   "source": []
  },
  {
   "cell_type": "code",
   "execution_count": null,
   "id": "b7419122",
   "metadata": {},
   "outputs": [],
   "source": [
    "raw_bookings_df[raw_bookings_df.duplicated(subset=['created_at', 'outbound_flight_no'])]"
   ]
  },
  {
   "cell_type": "code",
   "execution_count": null,
   "id": "bc60bc7c",
   "metadata": {},
   "outputs": [],
   "source": []
  },
  {
   "cell_type": "code",
   "execution_count": null,
   "id": "ec11691a",
   "metadata": {},
   "outputs": [],
   "source": [
    "bookings_df = raw_bookings_df.copy(deep=True)\n",
    "bookings_df.head()"
   ]
  },
  {
   "cell_type": "code",
   "execution_count": null,
   "id": "38e5b4c6",
   "metadata": {},
   "outputs": [],
   "source": []
  },
  {
   "cell_type": "code",
   "execution_count": null,
   "id": "0afee59e",
   "metadata": {},
   "outputs": [],
   "source": [
    "bookings_df['booking_status'].value_counts()"
   ]
  },
  {
   "cell_type": "code",
   "execution_count": null,
   "id": "469f78a0",
   "metadata": {},
   "outputs": [],
   "source": []
  },
  {
   "cell_type": "code",
   "execution_count": null,
   "id": "17caf17f",
   "metadata": {},
   "outputs": [],
   "source": [
    "confirmed_booking = bookings_df['booking_status'] == 'Confirmed'\n",
    "\n",
    "same_time_period = bookings_df['created_at'].between(flight_min_date, flight_max_date, inclusive='both')\n",
    "\n",
    "bookings_df.loc[:, 'to_keep'] = confirmed_booking & same_time_period\n",
    "\n",
    "bookings_df['to_keep'].fillna(False, inplace=True)\n",
    "\n",
    "filtered_bookings_df = bookings_df[bookings_df['to_keep']].drop(columns=['to_keep'])\n",
    "\n",
    "filtered_bookings_df.head()"
   ]
  },
  {
   "cell_type": "code",
   "execution_count": null,
   "id": "8cd222f8",
   "metadata": {},
   "outputs": [],
   "source": []
  },
  {
   "cell_type": "code",
   "execution_count": null,
   "id": "448f992d",
   "metadata": {},
   "outputs": [],
   "source": [
    "filtered_bookings_df[~filtered_bookings_df['started_at'].astype(str).str.endswith('+00')].shape, filtered_bookings_df[~filtered_bookings_df['closed_at'].astype(str).str.endswith('+00')].shape"
   ]
  },
  {
   "cell_type": "code",
   "execution_count": null,
   "id": "ed3a952e",
   "metadata": {},
   "outputs": [],
   "source": []
  },
  {
   "cell_type": "code",
   "execution_count": null,
   "id": "9bee55a7",
   "metadata": {},
   "outputs": [],
   "source": [
    "filtered_bookings_df['created_at'] = pd.to_datetime(filtered_bookings_df['created_at'], errors='coerce').dt.strftime('%Y-%m-%d %H:%M:%S')\n",
    "filtered_bookings_df['started_at'] = pd.to_datetime(filtered_bookings_df['started_at'], format='%Y-%m-%d %H:%M:%S%z', errors='coerce').dt.strftime('%Y-%m-%d %H:%M:%S')\n",
    "filtered_bookings_df['closed_at'] = pd.to_datetime(filtered_bookings_df['closed_at'], format='%Y-%m-%d %H:%M:%S%z', errors='coerce').dt.strftime('%Y-%m-%d %H:%M:%S')\n",
    "filtered_bookings_df['is_discount_booking'] = filtered_bookings_df['is_discount_booking'].astype(bool)\n",
    "filtered_bookings_df['booking_status'] = filtered_bookings_df['booking_status'].astype('category')\n",
    "\n",
    "filtered_bookings_df['flight_date'] = pd.to_datetime(filtered_bookings_df['started_at'], errors='coerce').dt.strftime('%Y-%m-%d')\n",
    "\n",
    "filtered_bookings_df['created_at_dt'] = pd.to_datetime(filtered_bookings_df['created_at'], errors='coerce')\n",
    "filtered_bookings_df['started_at_dt'] = pd.to_datetime(filtered_bookings_df['started_at'], errors='coerce')\n",
    "filtered_bookings_df['closed_at_dt'] = pd.to_datetime(filtered_bookings_df['closed_at'], errors='coerce')\n",
    "\n",
    "filtered_bookings_df['parking_duration_days'] = (filtered_bookings_df['closed_at_dt'] - filtered_bookings_df['started_at_dt']).dt.days\n",
    "filtered_bookings_df['lead_time_days'] = (filtered_bookings_df['started_at_dt'] - filtered_bookings_df['created_at_dt']).dt.days\n",
    "\n",
    "filtered_bookings_df['flight_number_full_icao'] = filtered_bookings_df['outbound_flight_no'].str.upper()\n",
    "\n",
    "filtered_bookings_df.head()\n"
   ]
  },
  {
   "cell_type": "code",
   "execution_count": null,
   "id": "86e4a066",
   "metadata": {},
   "outputs": [],
   "source": []
  },
  {
   "cell_type": "code",
   "execution_count": null,
   "id": "1b7d128f",
   "metadata": {},
   "outputs": [],
   "source": [
    "# Analysis for bookings_df\n",
    "nan_terminal_records_bookings = bookings_df[bookings_df['terminal'].isnull()].shape[0]\n",
    "total_raw_booking_records_bookings = bookings_df.shape[0]\n",
    "nan_terminal_percentage_bookings = (nan_terminal_records_bookings / total_raw_booking_records_bookings) * 100\n",
    "total_records_to_keep_bookings = bookings_df[bookings_df['to_keep']].shape[0]\n",
    "\n",
    "print(\"bookings_df:\")\n",
    "print(f\"  Total records: {total_raw_booking_records_bookings}\")\n",
    "print(f\"  Records to keep: {total_records_to_keep_bookings}\")\n",
    "print(f\"  NaN 'terminal': {nan_terminal_records_bookings}\")\n",
    "print(f\"  % NaN 'terminal': {nan_terminal_percentage_bookings:.2f}%\")\n",
    "print(f\"  NaN 'terminal' & to_keep: {bookings_df[bookings_df['terminal'].isnull() & bookings_df['to_keep']].shape[0]}\")\n",
    "print(f\"  % NaN 'terminal' & to_keep: {(bookings_df[bookings_df['terminal'].isnull() & bookings_df['to_keep']].shape[0] / total_records_to_keep_bookings) * 100:.2f}%\")\n",
    "\n",
    "# Analysis for filtered_bookings_df\n",
    "nan_terminal_records_filtered = filtered_bookings_df[filtered_bookings_df['terminal'].isnull()].shape[0] if 'terminal' in filtered_bookings_df.columns else 0\n",
    "total_raw_booking_records_filtered = filtered_bookings_df.shape[0]\n",
    "nan_terminal_percentage_filtered = (nan_terminal_records_filtered / total_raw_booking_records_filtered) * 100 if total_raw_booking_records_filtered > 0 else 0\n",
    "\n",
    "print(\"\\nfiltered_bookings_df:\")\n",
    "print(f\"  Total records: {total_raw_booking_records_filtered}\")\n",
    "print(f\"  NaN 'terminal': {nan_terminal_records_filtered}\")\n",
    "print(f\"  % NaN 'terminal': {nan_terminal_percentage_filtered:.2f}%\")"
   ]
  },
  {
   "cell_type": "code",
   "execution_count": null,
   "id": "29a00f0d",
   "metadata": {},
   "outputs": [],
   "source": []
  },
  {
   "cell_type": "code",
   "execution_count": null,
   "id": "6fd27a03",
   "metadata": {},
   "outputs": [],
   "source": [
    "has_terminal_bookings_df = filtered_bookings_df[~filtered_bookings_df['terminal'].isna()]\n",
    "\n",
    "missing_terminal_bookings_df = filtered_bookings_df[filtered_bookings_df['terminal'].isna()]#.rename(columns={'outbound_flight_no': 'flight_number_full_icao'})\n",
    "\n",
    "required_flight_cols = ['flight_number_full_icao', 'terminal_name', 'flight_date']\n",
    "\n",
    "recovered_terminal_flights_df = missing_terminal_bookings_df.merge(flights_df[required_flight_cols], on=['flight_number_full_icao', 'flight_date'], how='left')\n",
    "\n",
    "recovered_terminal_flights_df = recovered_terminal_flights_df.drop(columns=['terminal']).rename(columns={'terminal_name': 'terminal'})\n",
    "\n",
    "bookings_validated_df = pd.concat([has_terminal_bookings_df, recovered_terminal_flights_df], ignore_index=True)\n",
    "\n",
    "# bookings_validated_df['terminal'] = bookings_validated_df['terminal'].fillna('Unknown')\n",
    "\n",
    "bookings_validated_df.shape, bookings_df.shape"
   ]
  },
  {
   "cell_type": "code",
   "execution_count": null,
   "id": "eb9e119b",
   "metadata": {},
   "outputs": [],
   "source": []
  },
  {
   "cell_type": "code",
   "execution_count": null,
   "id": "5054bdcb",
   "metadata": {},
   "outputs": [],
   "source": [
    "final_bookings_df = bookings_validated_df.melt(\n",
    "    id_vars=[c for c in bookings_validated_df.columns if c not in car_park_columns],\n",
    "    value_vars=car_park_columns,\n",
    "    var_name=\"carpark_name\",\n",
    "    value_name=\"is_carpark\"\n",
    ")\n",
    "\n",
    "final_bookings_df = final_bookings_df[(final_bookings_df['is_carpark'] == 1).drop(columns=['is_carpark'])].reset_index(drop=True)\n",
    "final_bookings_df.head()"
   ]
  },
  {
   "cell_type": "code",
   "execution_count": null,
   "id": "0900b2fd",
   "metadata": {},
   "outputs": [],
   "source": []
  },
  {
   "cell_type": "markdown",
   "id": "fdddcd30",
   "metadata": {},
   "source": [
    "# Aggregate for features"
   ]
  },
  {
   "cell_type": "code",
   "execution_count": null,
   "id": "5a3d8b01",
   "metadata": {},
   "outputs": [],
   "source": [
    "# Precompute normalized dates CORRECT AND SLIGHTLY FASTER\n",
    "starts = final_bookings_df['started_at_dt'].dt.normalize()\n",
    "ends = final_bookings_df['closed_at_dt'].dt.normalize()\n",
    "\n",
    "# Generate date ranges using list comprehension (faster than apply)\n",
    "final_bookings_df['occupancy_days'] = [\n",
    "    pd.date_range(s, e, freq='D') \n",
    "    for s, e in zip(starts, ends)\n",
    "]\n",
    "\n",
    "if os.path.exists(path_to_final_bookings) and 'final_bookings_exploded_df' not in globals():\n",
    "    print(\"Loading final_bookings_df from CSV...\")\n",
    "    final_bookings_exploded_df = pd.read_csv(path_to_final_bookings, parse_dates=['started_at_dt', 'closed_at_dt', 'date_occupied'])\n",
    "else:\n",
    "    print(\"Generating final_bookings_exploded_df and saving to CSV...\")\n",
    "    final_bookings_exploded_df = final_bookings_df.explode('occupancy_days').rename(columns={'occupancy_days': 'date_occupied'})\n",
    "    final_bookings_exploded_df.to_csv(path_to_final_bookings, index=False)\n",
    "\n",
    "# bookings_wrong_df = general_utils.expand_booking_dates_fast(final_bookings_df)\n"
   ]
  },
  {
   "cell_type": "code",
   "execution_count": null,
   "id": "2f32528c",
   "metadata": {},
   "outputs": [],
   "source": [
    "bookings_df"
   ]
  },
  {
   "cell_type": "code",
   "execution_count": null,
   "id": "2578ef3c",
   "metadata": {},
   "outputs": [],
   "source": []
  },
  {
   "cell_type": "code",
   "execution_count": null,
   "id": "9eed898a",
   "metadata": {},
   "outputs": [],
   "source": [
    "daily_bookings_df = final_bookings_exploded_df.groupby(['date_occupied', 'terminal', 'carpark_name']).agg(**{\n",
    "    'occupancy': ('date_occupied', 'count'),\n",
    "    'total_revenue': ('amount', 'sum'),\n",
    "    'bookings_count': ('amount', 'size'),\n",
    "    'avg_duration_days': ('parking_duration_days', 'mean'),\n",
    "    'min_duration_days': ('parking_duration_days', 'min'),\n",
    "    'avg_lead_time_days': ('lead_time_days', 'mean'),\n",
    "    'min_lead_time_days': ('lead_time_days', 'min'),\n",
    "    'discounted_bookings': ('is_discount_booking', 'sum'),\n",
    "    'discount_ratio': ('is_discount_booking', 'mean'),\n",
    "    'cancel_ratio': ('booking_status', lambda x: (x == 'canceled').mean())\n",
    "}).reset_index()\n",
    "\n",
    "daily_bookings_df['dow'] = pd.to_datetime(daily_bookings_df['date_occupied']).dt.dayofweek\n",
    "daily_bookings_df['month'] = pd.to_datetime(daily_bookings_df['date_occupied']).dt.month\n",
    "daily_bookings_df['is_weekend'] = daily_bookings_df['dow'].isin([5, 6]).astype(int)\n",
    "\n",
    "daily_bookings_df"
   ]
  },
  {
   "cell_type": "code",
   "execution_count": null,
   "id": "492fa1ab",
   "metadata": {},
   "outputs": [],
   "source": []
  },
  {
   "cell_type": "code",
   "execution_count": null,
   "id": "56e63d65",
   "metadata": {},
   "outputs": [],
   "source": [
    "flights_agg_df = flights_df.groupby(['flight_date', 'terminal_name']).agg(**{\n",
    "    'total_flights': ('flight_number_full_icao', 'nunique'),\n",
    "    'total_passengers': ('pax_quantity', 'sum'),\n",
    "    'intl_flights': ('is_international', 'sum'),\n",
    "    'intl_pax': ('pax_quantity', lambda x: x[flights_df.loc[x.index, 'is_international'] == 1].sum()),\n",
    "    'europe_pax': ('pax_quantity', lambda x: x[flights_df.loc[x.index, 'is_europe'] == True].sum()),\n",
    "    'asia_pax': ('pax_quantity', lambda x: x[flights_df.loc[x.index, 'is_asia'] == True].sum()),\n",
    "    'na_pax': ('pax_quantity', lambda x: x[flights_df.loc[x.index, 'is_north_america'] == True].sum()),\n",
    "    'africa_pax': ('pax_quantity', lambda x: x[flights_df.loc[x.index, 'is_africa'] == True].sum()),\n",
    "}).reset_index()\n",
    "\n",
    "flights_agg_df['flight_date'] = pd.to_datetime(flights_agg_df['flight_date'])\n",
    "\n",
    "flights_agg_df['intl_share'] = flights_agg_df['intl_pax'] / flights_agg_df['total_passengers']\n",
    "flights_agg_df['europe_share'] = flights_agg_df['europe_pax'] / flights_agg_df['total_passengers']\n",
    "flights_agg_df['asia_share'] = flights_agg_df['asia_pax'] / flights_agg_df['total_passengers']\n",
    "flights_agg_df['na_share'] = flights_agg_df['na_pax'] / flights_agg_df['total_passengers']\n",
    "flights_agg_df['africa_share'] = flights_agg_df['africa_pax'] / flights_agg_df['total_passengers']\n",
    "\n",
    "uk_holidays = holidays.UnitedKingdom(years=range(2017, 2026))\n",
    "flights_agg_df['holiday_flag'] = flights_agg_df['flight_date'].dt.date.astype('datetime64[ns]').isin(uk_holidays).astype(int)\n",
    "\n",
    "flights_agg_df['weekofyear'] = flights_agg_df['flight_date'].dt.isocalendar().week\n",
    "\n",
    "flights_agg_df"
   ]
  },
  {
   "cell_type": "code",
   "execution_count": null,
   "id": "2cab3988",
   "metadata": {},
   "outputs": [],
   "source": []
  },
  {
   "cell_type": "code",
   "execution_count": null,
   "id": "f79c2ca2",
   "metadata": {},
   "outputs": [],
   "source": [
    "flights_agg_df['flight_date'].min(), flights_agg_df['flight_date'].max(), flights_df['flight_date'].min(), flights_df['flight_date'].max()"
   ]
  },
  {
   "cell_type": "code",
   "execution_count": null,
   "id": "b573657e",
   "metadata": {},
   "outputs": [],
   "source": []
  },
  {
   "cell_type": "code",
   "execution_count": null,
   "id": "65d7e7cd",
   "metadata": {},
   "outputs": [],
   "source": [
    "relevant_columns = ['date_occupied', 'terminal', 'carpark_name', 'occupancy','total_revenue', 'bookings_count', 'avg_duration_days', 'min_duration_days', 'avg_lead_time_days', 'min_lead_time_days',\n",
    "       'discounted_bookings', 'discount_ratio', 'cancel_ratio', 'dow', 'month', 'is_weekend', 'flight_date', 'terminal_name', 'total_flights',\n",
    "       'total_passengers', 'intl_flights', 'intl_share', 'europe_share', 'asia_share', 'na_share', 'africa_share', 'holiday_flag', 'weekofyear']\n",
    "\n",
    "merged_df = daily_bookings_df.merge(flights_agg_df, left_on=['date_occupied', 'terminal'], right_on=['flight_date', 'terminal_name'], how='left')\n",
    "filtered_dates_rows = merged_df['date_occupied'].between(flight_min_date, flight_max_date, inclusive='both')\n",
    "master_df = merged_df.loc[filtered_dates_rows, relevant_columns]\n",
    "\n",
    "master_df.shape, merged_df.shape"
   ]
  },
  {
   "cell_type": "code",
   "execution_count": null,
   "id": "b95d09eb",
   "metadata": {},
   "outputs": [],
   "source": []
  },
  {
   "cell_type": "code",
   "execution_count": null,
   "id": "b65a37b2",
   "metadata": {},
   "outputs": [],
   "source": [
    "weekly_df = master_df.groupby(['weekofyear', 'terminal', 'carpark_name']).agg({\n",
    "    'occupancy': 'sum',\n",
    "    'total_revenue': 'sum',\n",
    "    'bookings_count': 'sum',\n",
    "    'avg_duration_days': 'mean',\n",
    "    'min_duration_days': 'min',\n",
    "    'avg_lead_time_days': 'mean',\n",
    "    'min_lead_time_days': 'min',\n",
    "    'discounted_bookings': 'sum',\n",
    "    'discount_ratio': 'mean',\n",
    "    'cancel_ratio': 'mean',\n",
    "    'dow': 'first',\n",
    "    'month': 'first',\n",
    "    'is_weekend': 'first',\n",
    "    'total_flights': 'sum',\n",
    "    'total_passengers': 'sum',\n",
    "    'intl_flights': 'sum',\n",
    "    'intl_share': 'mean',\n",
    "    'europe_share': 'mean',\n",
    "    'asia_share': 'mean',\n",
    "    'na_share': 'mean',\n",
    "    'africa_share': 'mean',\n",
    "    'holiday_flag': 'max',\n",
    "    'flight_date': 'first',\n",
    "    'terminal_name': 'first'\n",
    "}).reset_index()\n",
    "\n",
    "weekly_df.head()"
   ]
  },
  {
   "cell_type": "code",
   "execution_count": null,
   "id": "36980991",
   "metadata": {},
   "outputs": [],
   "source": []
  },
  {
   "cell_type": "markdown",
   "id": "d0a89bac",
   "metadata": {},
   "source": [
    "# Explore Data"
   ]
  },
  {
   "cell_type": "code",
   "execution_count": null,
   "id": "760ac6e1",
   "metadata": {},
   "outputs": [],
   "source": [
    "master_df.columns"
   ]
  },
  {
   "cell_type": "code",
   "execution_count": null,
   "id": "f09da3d4",
   "metadata": {},
   "outputs": [],
   "source": []
  },
  {
   "cell_type": "code",
   "execution_count": null,
   "id": "ae4af404",
   "metadata": {},
   "outputs": [],
   "source": [
    "sliced_flights_df = flights_df[flights_df['flight_date'].between(flight_min_date, flight_max_date, inclusive='both')].sort_values(by=['flight_date', 'terminal_name'])\n",
    "sliced_flights_df['weekofyear'] = pd.to_datetime(sliced_flights_df['flight_date']).dt.isocalendar().week\n",
    "sliced_flights_df"
   ]
  },
  {
   "cell_type": "code",
   "execution_count": null,
   "id": "e417476d",
   "metadata": {},
   "outputs": [],
   "source": []
  },
  {
   "cell_type": "code",
   "execution_count": null,
   "id": "9ee34464",
   "metadata": {},
   "outputs": [],
   "source": [
    "ax = sliced_flights_df.groupby(['weekofyear','terminal_name']).agg({'pax_quantity': 'sum'}).unstack().droplevel(level=0, axis=1).plot(\n",
    "    kind='line', title='Weekly Passenger Count Over Time', figsize=(12,6)\n",
    ")\n",
    "ax.set_ylim(bottom=0)\n",
    "ax.yaxis.set_major_formatter(plt.FuncFormatter(lambda x, _: f\"{int(x):,}\"))\n",
    "ax.grid(True, axis='y', linestyle='--', alpha=0.5)\n",
    "\n",
    "lines = ax.get_lines()\n",
    "if len(lines) > 1:\n",
    "    lines[1].set_linestyle('--')\n",
    "\n",
    "for q, label in zip([13, 26, 39, 52], ['Q1', 'Q2', 'Q3', 'Q4']):\n",
    "    ax.axvline(x=q, color='gray', linestyle=':', linewidth=1)\n",
    "    ax.text(q, ax.get_ylim()[1], label, color='gray', ha='center', va='top', fontsize=10)\n",
    "\n",
    "    ax.set_ylabel('Outbound Passengers')\n",
    "    ax.set_xlabel('Week of Year')\n",
    "\n",
    "plt.tight_layout()\n",
    "plt.show()"
   ]
  },
  {
   "cell_type": "code",
   "execution_count": null,
   "id": "4efdb348",
   "metadata": {},
   "outputs": [],
   "source": []
  },
  {
   "cell_type": "code",
   "execution_count": null,
   "id": "5f869447",
   "metadata": {},
   "outputs": [],
   "source": [
    "plt.figure(figsize=(14, 6))\n",
    "for terminal in master_df['terminal'].unique():\n",
    "    subset = master_df[master_df['terminal'] == terminal]\n",
    "    avg_by_week = subset.groupby('weekofyear')['occupancy'].mean()\n",
    "    plt.plot(avg_by_week.index, avg_by_week.values, label=terminal)\n",
    "\n",
    "plt.xlabel('Week of Year')\n",
    "plt.ylabel('Average Occupancy')\n",
    "plt.title('Average Occupancy per Terminal per Week - 2023')\n",
    "plt.legend()\n",
    "plt.tight_layout()\n",
    "plt.grid(True, axis='y', linestyle='--', alpha=0.5)\n",
    "plt.gca().yaxis.set_major_formatter(plt.FuncFormatter(lambda x, _: f\"{int(x):,}\"))\n",
    "\n",
    "for q in [13, 26, 39, 52]:\n",
    "    plt.axvline(x=q, color='gray', linestyle=':', linewidth=1)\n",
    "    plt.text(q, plt.gca().get_ylim()[1], f'Q{[13,26,39,52].index(q)+1}', color='gray', ha='center', va='top', fontsize=10)\n",
    "\n",
    "plt.show()"
   ]
  },
  {
   "cell_type": "code",
   "execution_count": null,
   "id": "e6269444",
   "metadata": {},
   "outputs": [],
   "source": []
  },
  {
   "cell_type": "code",
   "execution_count": null,
   "id": "0160a490",
   "metadata": {},
   "outputs": [],
   "source": [
    "ave_occupancy_per_carpark = master_df.groupby(['terminal', 'carpark_name','weekofyear'])['occupancy'].mean().unstack().fillna(0)\n",
    "\n",
    "ave_occupancy_per_carpark\n",
    "\n",
    "for terminal in master_df['terminal'].unique():\n",
    "    subset = master_df[master_df['terminal'] == terminal]\n",
    "    plt.figure(figsize=(12, 6))\n",
    "    for carpark in subset['carpark_name'].unique():\n",
    "        carpark_data = subset[subset['carpark_name'] == carpark].groupby('date_occupied')['occupancy'].mean()\n",
    "        plt.plot(carpark_data.index, carpark_data.values, label=f\"{carpark}\")\n",
    "    plt.xlabel('Date')\n",
    "    plt.ylabel('Occupancy')\n",
    "    plt.title(f'Occupancy Over Time - Terminal {terminal}')\n",
    "    plt.legend()\n",
    "    plt.grid(True)\n",
    "    plt.gca().yaxis.set_major_formatter(plt.FuncFormatter(lambda x, _: f\"{int(x):,}\"))\n",
    "    plt.show()"
   ]
  },
  {
   "cell_type": "code",
   "execution_count": null,
   "id": "2d117e99",
   "metadata": {},
   "outputs": [],
   "source": []
  },
  {
   "cell_type": "markdown",
   "id": "1c8a9d4c",
   "metadata": {},
   "source": [
    "# Train models"
   ]
  },
  {
   "cell_type": "code",
   "execution_count": null,
   "id": "b37a74a9",
   "metadata": {},
   "outputs": [],
   "source": [
    "trial_df = weekly_df.copy(deep=True)\n",
    "trial_df\n",
    "\n",
    "# Sort by date\n",
    "master_df_sorted = master_df.sort_values('date_occupied')\n",
    "\n",
    "master_df_sorted = trial_df.sort_values(by=['weekofyear', 'terminal', 'carpark_name'])\n",
    "\n",
    "start_idea = '2023-06-01'\n",
    "end_idea = '2023-11-01'\n",
    "# master_df_sorted = master_df_sorted[master_df_sorted['date_occupied'].between(start_idea, end_idea)]\n",
    "\n",
    "# 70/30 split\n",
    "split_idx = int(len(master_df_sorted) * 0.7)\n",
    "train_df = master_df_sorted.iloc[:split_idx]\n",
    "test_df = master_df_sorted.iloc[split_idx:]\n",
    "\n",
    "# Features and target\n",
    "feature_cols = [\n",
    "    'total_flights', 'total_passengers', 'intl_share', 'europe_share', 'asia_share',\n",
    "    'na_share', 'africa_share', 'holiday_flag', 'dow', 'month', 'is_weekend'\n",
    "]\n",
    "X_train = train_df[feature_cols].fillna(0)\n",
    "y_train = train_df['occupancy']\n",
    "X_test = test_df[feature_cols].fillna(0)\n",
    "y_test = test_df['occupancy']"
   ]
  },
  {
   "cell_type": "code",
   "execution_count": null,
   "id": "427ca7a6",
   "metadata": {},
   "outputs": [],
   "source": []
  },
  {
   "cell_type": "code",
   "execution_count": null,
   "id": "4f89a3c9",
   "metadata": {},
   "outputs": [],
   "source": [
    "# Fit model\n",
    "lr = LinearRegression()\n",
    "lr.fit(X_train, y_train)\n",
    "\n",
    "# Predict\n",
    "y_pred_lr = lr.predict(X_test)\n",
    "\n",
    "# Metrics\n",
    "r2_score_value_lr = r2_score(y_test, y_pred_lr)\n",
    "rmse_value_lr = np.sqrt(mean_squared_error(y_test, y_pred_lr))\n",
    "mae_value_lr = mean_absolute_error(y_test, y_pred_lr)\n",
    "mse_value_lr = mean_squared_error(y_test, y_pred_lr)\n",
    "\n",
    "print(f\"R2 Score: {r2_score_value_lr:.4f}\")\n",
    "print(f\"RMSE: {rmse_value_lr:.2f}\")\n",
    "print(f\"MAE: {mae_value_lr:.2f}\")\n",
    "print(f\"MSE: {mse_value_lr:.2f}\")"
   ]
  },
  {
   "cell_type": "code",
   "execution_count": null,
   "id": "bcdb2043",
   "metadata": {},
   "outputs": [],
   "source": []
  },
  {
   "cell_type": "code",
   "execution_count": null,
   "id": "3ab0a006",
   "metadata": {},
   "outputs": [],
   "source": [
    "ts = master_df_sorted.groupby('weekofyear')['occupancy'].sum().sort_index()\n",
    "\n",
    "# Train/test split (70/30)\n",
    "split_idx = int(len(ts) * 0.7)\n",
    "train_ts = ts.iloc[:split_idx]\n",
    "test_ts = ts.iloc[split_idx:]\n",
    "\n",
    "# Fit ARIMA model (simple order, can be tuned)\n",
    "arima_model = ARIMA(train_ts, order=(1,1,1))\n",
    "arima_result = arima_model.fit()\n",
    "\n",
    "# Forecast\n",
    "forecast = arima_result.forecast(steps=len(test_ts))\n",
    "y_pred_arima = forecast.values\n",
    "y_test_arima = test_ts.values\n",
    "\n",
    "# Metrics\n",
    "r2_arima = r2_score(y_test_arima, y_pred_arima)\n",
    "rmse_arima = np.sqrt(mean_squared_error(y_test_arima, y_pred_arima))\n",
    "mae_arima = mean_absolute_error(y_test_arima, y_pred_arima)\n",
    "mse_arima = mean_squared_error(y_test_arima, y_pred_arima)\n",
    "\n",
    "print(f\"ARIMA R2 Score: {r2_arima:.4f}\")\n",
    "print(f\"ARIMA RMSE: {rmse_arima:.2f}\")\n",
    "print(f\"ARIMA MAE: {mae_arima:.2f}\")\n",
    "print(f\"ARIMA MSE: {mse_arima:.2f}\")"
   ]
  },
  {
   "cell_type": "code",
   "execution_count": null,
   "id": "edc0c039",
   "metadata": {},
   "outputs": [],
   "source": []
  },
  {
   "cell_type": "code",
   "execution_count": null,
   "id": "194cd662",
   "metadata": {},
   "outputs": [],
   "source": [
    "# Compute correlation of features with target\n",
    "corrs = train_df[feature_cols + ['occupancy']].corr()['occupancy'].drop('occupancy')\n",
    "corrs_abs = corrs.abs().sort_values(ascending=False)\n",
    "\n",
    "# Select top N features (e.g., top 8)\n",
    "top_n = 8\n",
    "selected_features = corrs_abs.head(top_n).index.tolist()\n",
    "print(\"Selected features:\", selected_features)\n",
    "\n",
    "# Use selected features for training\n",
    "X_train_corr = train_df[selected_features].fillna(0)\n",
    "X_test_corr = test_df[selected_features].fillna(0)\n",
    "\n",
    "# Fit model\n",
    "rf_corr = RandomForestRegressor(\n",
    "    n_estimators=500,\n",
    "    max_depth=20,\n",
    "    min_samples_split=2,\n",
    "    min_samples_leaf=1,\n",
    "    max_features='sqrt',\n",
    "    random_state=42,\n",
    "    n_jobs=-1\n",
    ")\n",
    "rf_corr.fit(X_train_corr, y_train)\n",
    "\n",
    "# Predict\n",
    "y_pred_rf_corr = rf_corr.predict(X_test_corr)\n",
    "\n",
    "# Metrics\n",
    "r2_rf_corr = r2_score(y_test, y_pred_rf_corr)\n",
    "rmse_rf_corr = np.sqrt(mean_squared_error(y_test, y_pred_rf_corr))\n",
    "mae_rf_corr = mean_absolute_error(y_test, y_pred_rf_corr)\n",
    "mse_rf_corr = mean_squared_error(y_test, y_pred_rf_corr)\n",
    "\n",
    "print(f\"Random Forest (Corr) R2 Score: {r2_rf_corr:.4f}\")\n",
    "print(f\"Random Forest (Corr) RMSE: {rmse_rf_corr:.2f}\")\n",
    "print(f\"Random Forest (Corr) MAE: {mae_rf_corr:.2f}\")\n",
    "print(f\"Random Forest (Corr) MSE: {mse_rf_corr:.2f}\")"
   ]
  },
  {
   "cell_type": "code",
   "execution_count": null,
   "id": "862ba9c3",
   "metadata": {},
   "outputs": [],
   "source": []
  },
  {
   "cell_type": "code",
   "execution_count": null,
   "id": "566f224f",
   "metadata": {},
   "outputs": [],
   "source": [
    "# Train XGBoost Regressor\n",
    "xgb = XGBRegressor(n_estimators=100, random_state=42)\n",
    "xgb.fit(X_train, y_train)\n",
    "\n",
    "# Predict\n",
    "y_pred_xgb = xgb.predict(X_test)\n",
    "\n",
    "# Metrics\n",
    "r2_xgb = r2_score(y_test, y_pred_xgb)\n",
    "rmse_xgb = np.sqrt(mean_squared_error(y_test, y_pred_xgb))\n",
    "mae_xgb = mean_absolute_error(y_test, y_pred_xgb)\n",
    "mse_xgb = mean_squared_error(y_test, y_pred_xgb)\n",
    "\n",
    "print(f\"XGBoost R2 Score: {r2_xgb:.4f}\")\n",
    "print(f\"XGBoost RMSE: {rmse_xgb:.2f}\")\n",
    "print(f\"XGBoost MAE: {mae_xgb:.2f}\")\n",
    "print(f\"XGBoost MSE: {mse_xgb:.2f}\")"
   ]
  },
  {
   "cell_type": "code",
   "execution_count": null,
   "id": "cabbca80",
   "metadata": {},
   "outputs": [],
   "source": []
  },
  {
   "cell_type": "code",
   "execution_count": null,
   "id": "714035ae",
   "metadata": {},
   "outputs": [],
   "source": [
    "metrics = {\n",
    "    'Model': ['Linear Regression', 'Random Forest (Corr)', 'XGBoost', 'ARIMA'],\n",
    "    'R2 Score': [r2_score_value_lr, r2_rf_corr, r2_xgb, r2_arima],\n",
    "    'RMSE': [rmse_value_lr, rmse_rf_corr, rmse_xgb, rmse_arima],\n",
    "    'MAE': [mae_value_lr, mae_rf_corr, mae_xgb, mae_arima],\n",
    "    'MSE': [mse_value_lr, mse_rf_corr, mse_xgb, mse_arima]\n",
    "}\n",
    "\n",
    "metrics_df = pd.DataFrame(metrics)"
   ]
  },
  {
   "cell_type": "code",
   "execution_count": null,
   "id": "20f193bd",
   "metadata": {},
   "outputs": [],
   "source": []
  },
  {
   "cell_type": "code",
   "execution_count": null,
   "id": "7cd6d75b",
   "metadata": {},
   "outputs": [],
   "source": [
    "# Plot each metric\n",
    "fig, axes = plt.subplots(2, 2, figsize=(12, 10))\n",
    "metric_names = ['R2 Score', 'RMSE', 'MAE', 'MSE']\n",
    "\n",
    "for ax, metric in zip(axes.flatten(), metric_names):\n",
    "    metrics_df.plot(x='Model', y=metric, kind='barh', ax=ax, legend=False)\n",
    "    ax.set_title(f'{metric} Comparison')\n",
    "    ax.set_ylabel(metric)\n",
    "    ax.set_xlabel('Model')\n",
    "    ax.grid(True, axis='y')\n",
    "\n",
    "plt.tight_layout()\n",
    "plt.show()"
   ]
  }
 ],
 "metadata": {
  "kernelspec": {
   "display_name": "pandas_2",
   "language": "python",
   "name": "python3"
  },
  "language_info": {
   "codemirror_mode": {
    "name": "ipython",
    "version": 3
   },
   "file_extension": ".py",
   "mimetype": "text/x-python",
   "name": "python",
   "nbconvert_exporter": "python",
   "pygments_lexer": "ipython3",
   "version": "3.10.13"
  }
 },
 "nbformat": 4,
 "nbformat_minor": 5
}
